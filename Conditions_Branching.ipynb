{
  "metadata": {
    "language_info": {
      "codemirror_mode": {
        "name": "python",
        "version": 3
      },
      "file_extension": ".py",
      "mimetype": "text/x-python",
      "name": "python",
      "nbconvert_exporter": "python",
      "pygments_lexer": "ipython3",
      "version": "3.8"
    },
    "kernelspec": {
      "name": "python",
      "display_name": "Python (Pyodide)",
      "language": "python"
    }
  },
  "nbformat_minor": 4,
  "nbformat": 4,
  "cells": [
    {
      "cell_type": "markdown",
      "source": "# Condition \n\n### Comparision Operators\nComparison operations compare some value or operand and based on a condition, produce a Boolean. When comparing two values you can use these operators:\n\n- equal: ==\n- not equal: !=\n- greater than: >\n- less than: <\n- greater than or equal to: >=\n- less than or equal to: <=\n\n",
      "metadata": {}
    },
    {
      "cell_type": "code",
      "source": "# condition equal\na=3\na==4",
      "metadata": {
        "trusted": true
      },
      "execution_count": 8,
      "outputs": [
        {
          "execution_count": 8,
          "output_type": "execute_result",
          "data": {
            "text/plain": "False"
          },
          "metadata": {}
        }
      ]
    },
    {
      "cell_type": "code",
      "source": "# Greater than sign\ni = 3\ni >6",
      "metadata": {
        "trusted": true
      },
      "execution_count": 9,
      "outputs": [
        {
          "execution_count": 9,
          "output_type": "execute_result",
          "data": {
            "text/plain": "False"
          },
          "metadata": {}
        }
      ]
    },
    {
      "cell_type": "code",
      "source": "# less than sign\ni=3\ni<4",
      "metadata": {
        "trusted": true
      },
      "execution_count": 10,
      "outputs": [
        {
          "execution_count": 10,
          "output_type": "execute_result",
          "data": {
            "text/plain": "True"
          },
          "metadata": {}
        }
      ]
    },
    {
      "cell_type": "code",
      "source": "#not equal to sign\ni=3\ni!=4",
      "metadata": {
        "trusted": true
      },
      "execution_count": 11,
      "outputs": [
        {
          "execution_count": 11,
          "output_type": "execute_result",
          "data": {
            "text/plain": "True"
          },
          "metadata": {}
        }
      ]
    },
    {
      "cell_type": "code",
      "source": "# comapare strings\n\"Florida\" == \"Orlando\"",
      "metadata": {
        "trusted": true
      },
      "execution_count": 15,
      "outputs": [
        {
          "execution_count": 15,
          "output_type": "execute_result",
          "data": {
            "text/plain": "False"
          },
          "metadata": {}
        }
      ]
    },
    {
      "cell_type": "code",
      "source": "\"Florida\" != \"Orlando\"",
      "metadata": {
        "trusted": true
      },
      "execution_count": 16,
      "outputs": [
        {
          "execution_count": 16,
          "output_type": "execute_result",
          "data": {
            "text/plain": "True"
          },
          "metadata": {}
        }
      ]
    },
    {
      "cell_type": "code",
      "source": "# compare characters\n'C' > 'B'",
      "metadata": {
        "trusted": true
      },
      "execution_count": 18,
      "outputs": [
        {
          "execution_count": 18,
          "output_type": "execute_result",
          "data": {
            "text/plain": "True"
          },
          "metadata": {}
        }
      ]
    },
    {
      "cell_type": "code",
      "source": "'C'>'c'",
      "metadata": {
        "trusted": true
      },
      "execution_count": 20,
      "outputs": [
        {
          "execution_count": 20,
          "output_type": "execute_result",
          "data": {
            "text/plain": "False"
          },
          "metadata": {}
        }
      ]
    },
    {
      "cell_type": "markdown",
      "source": "# Branching\n\nBranching allows us to run different statements for different inputs. It is helpful to think of an if statement as a locked room, if the statement is True we can enter the room and your program will run some predefined tasks, but if the statement is False the program will ignore the task",
      "metadata": {}
    },
    {
      "cell_type": "code",
      "source": "# if statement\n\nage = 15\nif age >= 18:\n    print (\"you can ride\")\nelif age==16:\n    print( \"Go for learners licence\")\nelse:\n    print(\"You can't drive.\")\nprint(\"Have a good day\")",
      "metadata": {
        "trusted": true
      },
      "execution_count": 31,
      "outputs": [
        {
          "name": "stdout",
          "text": "You can't drive.\nHave a good day\n",
          "output_type": "stream"
        }
      ]
    },
    {
      "cell_type": "code",
      "source": "age = 16\nif age >= 18:\n    print (\"you can ride\")\nelif age==16:\n    print( \"Go for learners licence\")\nelse:\n    print(\"You can't drive.\")\nprint(\"Have a good day\")",
      "metadata": {
        "trusted": true
      },
      "execution_count": 32,
      "outputs": [
        {
          "name": "stdout",
          "text": "Go for learners licence\nHave a good day\n",
          "output_type": "stream"
        }
      ]
    },
    {
      "cell_type": "code",
      "source": "age = 19\nif age>=18:\n    print (\"you can ride\")\nelif age==16:\n    print( \"Go for learners licence\")\nelse:\n    print(\"You can't drive.\")\nprint(\"Have a good day\")",
      "metadata": {
        "trusted": true
      },
      "execution_count": 33,
      "outputs": [
        {
          "name": "stdout",
          "text": "you can ride\nHave a good day\n",
          "output_type": "stream"
        }
      ]
    },
    {
      "cell_type": "markdown",
      "source": "# Logical Operators\n\nSometimes you want to check more than one condition at once. For example, you might want to check if one condition and another condition are both True. Logical operators allow you to combine or modify conditions.\n\n   1) and : \n   |False+ False = False|\n   |-------------------- |\n   |False + True = False|\n   |True + False = False|\n   |True + True = **True**|\n            \n   2) or   : \n  | False+ False = **False**|\n  |-------------------------|\n   |False + True = True|\n   |True + False = True|\n   |True + True = True|\n             \n   3)  not:  \n   |False --> True|\n   |True --> False|",
      "metadata": {}
    },
    {
      "cell_type": "code",
      "source": "#Example\n\nyear =2000\n\nif ( year >= 2010 ) and (year <= 2005):\n    print(\" I got my bike.\")\n    \nelse:\n    print( \" I didn't get my bike\")\n",
      "metadata": {
        "trusted": true
      },
      "execution_count": 34,
      "outputs": [
        {
          "name": "stdout",
          "text": " I didn't get my bike\n",
          "output_type": "stream"
        }
      ]
    },
    {
      "cell_type": "code",
      "source": "# OR \n\nyear =2000\n\nif ( year >= 2010 ) or (year <= 2005):\n    print(\" I got my bike.\")\n    \nelse:\n    print( \" I didn't get my bike\")\n",
      "metadata": {
        "trusted": true
      },
      "execution_count": 36,
      "outputs": [
        {
          "name": "stdout",
          "text": " I got my bike.\n",
          "output_type": "stream"
        }
      ]
    },
    {
      "cell_type": "code",
      "source": "# NOT\n\nyear =2000\n\nif not ( year ==2001):\n    print( \" I didn't get my bike\")\n",
      "metadata": {
        "trusted": true
      },
      "execution_count": 39,
      "outputs": [
        {
          "name": "stdout",
          "text": " I didn't get my bike\n",
          "output_type": "stream"
        }
      ]
    },
    {
      "cell_type": "markdown",
      "source": "### Author\n\nGarima0186",
      "metadata": {}
    },
    {
      "cell_type": "code",
      "source": "",
      "metadata": {},
      "execution_count": null,
      "outputs": []
    }
  ]
}