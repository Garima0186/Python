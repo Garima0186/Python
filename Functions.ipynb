{
  "metadata": {
    "language_info": {
      "codemirror_mode": {
        "name": "python",
        "version": 3
      },
      "file_extension": ".py",
      "mimetype": "text/x-python",
      "name": "python",
      "nbconvert_exporter": "python",
      "pygments_lexer": "ipython3",
      "version": "3.8"
    },
    "kernelspec": {
      "name": "python",
      "display_name": "Python (Pyodide)",
      "language": "python"
    }
  },
  "nbformat_minor": 4,
  "nbformat": 4,
  "cells": [
    {
      "cell_type": "markdown",
      "source": "# Functions\n\nA function is a reusable block of code which performs operations specified in the function. \n\nThere are two types of functions :\n\n-  Pre-defined functions\n-  User defined functions\n\nHere are simple rules to define a function in Python:\n\n- Functions blocks begin def followed by the function name and parentheses ().\n- There are input parameters or arguments that should be placed within these parentheses.\n-  You can also define parameters inside these parentheses.\n-  There is a body within every function that starts with a colon (:) and is indented.\n-  You can also place documentation before the body.\n-  The statement return exits a function\n",
      "metadata": {}
    },
    {
      "cell_type": "code",
      "source": "# function\n\ndef sum_function(a):\n    b=a+1\n    print(a, \",if you sum one it will be,\", b)\n    return(b)\n",
      "metadata": {
        "trusted": true
      },
      "execution_count": 23,
      "outputs": []
    },
    {
      "cell_type": "code",
      "source": "# call the function\nsum_function(2)",
      "metadata": {
        "trusted": true
      },
      "execution_count": 24,
      "outputs": [
        {
          "name": "stdout",
          "text": "2 ,if you sum one it will be, 3\n",
          "output_type": "stream"
        },
        {
          "execution_count": 24,
          "output_type": "execute_result",
          "data": {
            "text/plain": "3"
          },
          "metadata": {}
        }
      ]
    },
    {
      "cell_type": "code",
      "source": "# to get help on function\n\nhelp(sum_function)",
      "metadata": {
        "trusted": true
      },
      "execution_count": 25,
      "outputs": [
        {
          "name": "stdout",
          "text": "Help on function sum_function in module __main__:\n\nsum_function(a)\n\n",
          "output_type": "stream"
        }
      ]
    },
    {
      "cell_type": "code",
      "source": "# create a multiplication function\n\ndef multiplication(a,b):\n    c=a*b\n    print(\"The multiplication of \", a,\"and\", \"b\", \"is:\", c)\n    return(c)\n\nmultiplication(2,5)\nmultiplication(2.1 , 3.4)\nmultiplication(3,\"Apple \")",
      "metadata": {
        "trusted": true
      },
      "execution_count": 30,
      "outputs": [
        {
          "name": "stdout",
          "text": "The multiplication of  2 and b is: 10\nThe multiplication of  2.1 and b is: 7.14\nThe multiplication of  3 and b is: Apple Apple Apple \n",
          "output_type": "stream"
        },
        {
          "execution_count": 30,
          "output_type": "execute_result",
          "data": {
            "text/plain": "'Apple Apple Apple '"
          },
          "metadata": {}
        }
      ]
    },
    {
      "cell_type": "markdown",
      "source": "## Variable\n\nThe input to a function is called a formal parameter.\n\n- **Local Variable** A variable that is declared inside a function is called a  local variable. The parameter only exists within the function (i.e. the point where the function starts and stops).\n\n- **Global Variable** A variable that is declared outside a function definition is a global variable, and its value is accessible and modifiable throughout the program. ",
      "metadata": {}
    },
    {
      "cell_type": "code",
      "source": "# local variable & Global variable\n\ndef fav_number(a):\n    b=1      #local variable\n    c= a*a+b\n    print(\"My favorite number is:\", c)\n    return(c)\n\nfav_number(2)\n\nx=3 #global variable\ny=fav_number(x)\n",
      "metadata": {
        "trusted": true
      },
      "execution_count": 43,
      "outputs": [
        {
          "name": "stdout",
          "text": "My favorite number is: 5\nMy favorite number is: 10\n",
          "output_type": "stream"
        }
      ]
    },
    {
      "cell_type": "code",
      "source": "# create a function ,one with return value NOne and other withour return value \n\ndef my_name():\n    print(\"MJ\")\n\n# call the function\nmy_name()\n",
      "metadata": {
        "trusted": true
      },
      "execution_count": 5,
      "outputs": [
        {
          "name": "stdout",
          "text": "MJ\n",
          "output_type": "stream"
        }
      ]
    },
    {
      "cell_type": "code",
      "source": "def my_name():\n    print(\"MJ\")\n    return(None) #Printing the function after a call reveals a None is the default return statement:\n# call the function\nmy_name()",
      "metadata": {
        "trusted": true
      },
      "execution_count": 6,
      "outputs": [
        {
          "name": "stdout",
          "text": "MJ\n",
          "output_type": "stream"
        }
      ]
    },
    {
      "cell_type": "code",
      "source": "# create a function to concatenate strings\n\ndef con(a,b):\n    return(a+b)\n\ncon(\"My name is \", \"MJ\")",
      "metadata": {
        "trusted": true
      },
      "execution_count": 9,
      "outputs": [
        {
          "execution_count": 9,
          "output_type": "execute_result",
          "data": {
            "text/plain": "'My name is MJ'"
          },
          "metadata": {}
        }
      ]
    },
    {
      "cell_type": "code",
      "source": "# to save time and many block of code we can you function , and it can be used repeatedly.\n\ndef solve(a,b):\n    c= a+b +2*2*2-1\n    print(\"The value of c is\", c)\n    if(c<10):\n        c=0\n    else:\n        c=5\n    return(c)\n\nsolve(-1,0)",
      "metadata": {
        "trusted": true
      },
      "execution_count": 17,
      "outputs": [
        {
          "name": "stdout",
          "text": "The value of c is 6\n",
          "output_type": "stream"
        },
        {
          "execution_count": 17,
          "output_type": "execute_result",
          "data": {
            "text/plain": "0"
          },
          "metadata": {}
        }
      ]
    },
    {
      "cell_type": "code",
      "source": "def solve(a,b):\n    c=a+b*2*1\n    print(c)\n    if (c<2):\n        c=0\n    else:\n        c=1\n    return(c)\n\na=2\nb=3\nx=solve(a,b)\nprint(x)",
      "metadata": {
        "trusted": true
      },
      "execution_count": 25,
      "outputs": [
        {
          "name": "stdout",
          "text": "8\n1\n",
          "output_type": "stream"
        }
      ]
    },
    {
      "cell_type": "markdown",
      "source": "### pre-defined functions",
      "metadata": {}
    },
    {
      "cell_type": "code",
      "source": "#print()\n#sum()\n#len()\n\nnum=[2,3,4,5,6]\nprint(num)\nprint(sum(num))\nprint(len(num))",
      "metadata": {
        "trusted": true
      },
      "execution_count": 27,
      "outputs": [
        {
          "name": "stdout",
          "text": "[2, 3, 4, 5, 6]\n20\n5\n",
          "output_type": "stream"
        }
      ]
    },
    {
      "cell_type": "code",
      "source": "# printing the list using loops in function\n\ndef PList(a):\n    for i in a:\n        print(i)\n\nPList([2,3,4,5,6])\n        ",
      "metadata": {
        "trusted": true
      },
      "execution_count": 31,
      "outputs": [
        {
          "name": "stdout",
          "text": "2\n3\n4\n5\n6\n",
          "output_type": "stream"
        }
      ]
    },
    {
      "cell_type": "code",
      "source": "# string comparision\n\nstring = 'My name is MJ'\ndef str_compare(a):\n    if(a in string):\n        return(\"Matched\")\n    else:\n        return(\"not matched\")\n    \nstr_compare('your')",
      "metadata": {
        "trusted": true
      },
      "execution_count": 32,
      "outputs": [
        {
          "execution_count": 32,
          "output_type": "execute_result",
          "data": {
            "text/plain": "'not matched'"
          },
          "metadata": {}
        }
      ]
    },
    {
      "cell_type": "code",
      "source": "# count words in a string\n\ndef freq(string):\n    \n    #step1: A list variable is declared and initialized to an empty list.\n    words = []\n    \n    #step2: Break the string into list of words\n    words = string.split() # or string.lower().split()\n    \n    #step3: Declare a dictionary\n    Dict = {}\n    \n    #step4: Use for loop to iterate words and values to the dictionary\n    for key in words:\n        Dict[key] = words.count(key)\n        \n    #step5: Print the dictionary\n    print(\"The Frequency of words is:\",Dict)\n    \n#step6: Call function and pass string in it\nfreq(\"Mary had a little lamb Little lamb, little lamb Mary had a little lamb.Its fleece was white as snow And everywhere that Mary went Mary went, Mary went \\\nEverywhere that Mary went The lamb was sure to go\")",
      "metadata": {
        "trusted": true
      },
      "execution_count": 36,
      "outputs": [
        {
          "name": "stdout",
          "text": "The Frequency of words is: {'Mary': 6, 'had': 2, 'a': 2, 'little': 3, 'lamb': 3, 'Little': 1, 'lamb,': 1, 'lamb.Its': 1, 'fleece': 1, 'was': 2, 'white': 1, 'as': 1, 'snow': 1, 'And': 1, 'everywhere': 1, 'that': 2, 'went': 3, 'went,': 1, 'Everywhere': 1, 'The': 1, 'sure': 1, 'to': 1, 'go': 1}\n",
          "output_type": "stream"
        }
      ]
    },
    {
      "cell_type": "code",
      "source": "# example to set parameter with default value\n\ndef rating(rate=4):\n    if(rate>=6):\n        print('good rating',rate)\n    else:\n        print('keep working', rate)\n        \nrating(4)\nrating()\nrating(8)",
      "metadata": {
        "trusted": true
      },
      "execution_count": 45,
      "outputs": [
        {
          "name": "stdout",
          "text": "keep working 4\nkeep working 4\ngood rating 8\n",
          "output_type": "stream"
        }
      ]
    },
    {
      "cell_type": "markdown",
      "source": "### Global variables\n",
      "metadata": {}
    },
    {
      "cell_type": "code",
      "source": "fruit= 'Apple'\n\ndef fruits(fruit):\n    fav_fruit=fruit\n    print(fruit,\" is my favorite fruit.\")\n    \nfruits(fruit)\nfruits(fav_fruit)",
      "metadata": {
        "trusted": true
      },
      "execution_count": 47,
      "outputs": [
        {
          "name": "stdout",
          "text": "Apple  is my favorite fruit.\n",
          "output_type": "stream"
        },
        {
          "ename": "<class 'NameError'>",
          "evalue": "name 'fav_fruit' is not defined",
          "traceback": [
            "\u001b[0;31m---------------------------------------------------------------------------\u001b[0m",
            "\u001b[0;31mNameError\u001b[0m                                 Traceback (most recent call last)",
            "Cell \u001b[0;32mIn[46], line 8\u001b[0m\n\u001b[1;32m      5\u001b[0m     \u001b[38;5;28mprint\u001b[39m(fruit,\u001b[38;5;124m\"\u001b[39m\u001b[38;5;124m is my favorite fruit.\u001b[39m\u001b[38;5;124m\"\u001b[39m)\n\u001b[1;32m      7\u001b[0m fruits(fruit)\n\u001b[0;32m----> 8\u001b[0m fruits(\u001b[43mfav_fruit\u001b[49m)\n",
            "\u001b[0;31mNameError\u001b[0m: name 'fav_fruit' is not defined"
          ],
          "output_type": "error"
        }
      ]
    },
    {
      "cell_type": "code",
      "source": "# now we add global name then the internal or local variable will be accessible.\n\nfruit= 'Apple'\n\ndef fruits(fruit):\n    global fav_fruit\n    fav_fruit=fruit\n    print(fruit,\" is my favorite fruit.\")\n    \nfruits(fruit)\nfruits(fav_fruit)",
      "metadata": {
        "trusted": true
      },
      "execution_count": 48,
      "outputs": [
        {
          "name": "stdout",
          "text": "Apple  is my favorite fruit.\nApple  is my favorite fruit.\n",
          "output_type": "stream"
        }
      ]
    },
    {
      "cell_type": "markdown",
      "source": "### Scope of variable",
      "metadata": {}
    },
    {
      "cell_type": "code",
      "source": "# global variable\n\nmy_car='Audi'\n\ndef my_fav_car(car):\n    if car == my_car:\n        return(\"Perfect\")\n    else:\n        return(\"Its ok\")\n    \nprint(my_fav_car('Audi'))\nprint(my_fav_car('Merc'))\nprint(my_fav_car(my_car))",
      "metadata": {
        "trusted": true
      },
      "execution_count": 53,
      "outputs": [
        {
          "name": "stdout",
          "text": "Perfect\nIts ok\nPerfect\n",
          "output_type": "stream"
        }
      ]
    },
    {
      "cell_type": "code",
      "source": "del my_car\n# Example of local variable\n\ndef my_fav_car(car):\n    my_car = \"Audi\"\n    if car == my_car:\n        return(\"Perfect\")\n    else:\n        return (\"Its ok\")\n\nprint(my_fav_car('Audi'))\nprint( my_fav_car('merc'))\n\nprint(my_fav_car(my_car))",
      "metadata": {
        "trusted": true
      },
      "execution_count": 68,
      "outputs": [
        {
          "ename": "<class 'NameError'>",
          "evalue": "name 'my_car' is not defined",
          "traceback": [
            "\u001b[0;31m---------------------------------------------------------------------------\u001b[0m",
            "\u001b[0;31mNameError\u001b[0m                                 Traceback (most recent call last)",
            "Cell \u001b[0;32mIn[66], line 1\u001b[0m\n\u001b[0;32m----> 1\u001b[0m \u001b[38;5;28;01mdel\u001b[39;00m \u001b[43mmy_car\u001b[49m\n\u001b[1;32m      2\u001b[0m \u001b[38;5;66;03m# Example of local variable\u001b[39;00m\n\u001b[1;32m      4\u001b[0m \u001b[38;5;28;01mdef\u001b[39;00m \u001b[38;5;21mmy_fav_car\u001b[39m(car):\n",
            "\u001b[0;31mNameError\u001b[0m: name 'my_car' is not defined"
          ],
          "output_type": "error"
        }
      ]
    },
    {
      "cell_type": "code",
      "source": "# example of global and local variable\n\nmy_car='Audi'\n\ndef my_fav_car(car):\n    my_car='Merc'\n    if car==my_car:\n        return(\"perfect\")\n    else:\n        return('Its ok')\n    \nprint(my_fav_car('Audi'))\nprint(my_fav_car('Merc'))\nprint(my_fav_car(my_car))",
      "metadata": {
        "trusted": true
      },
      "execution_count": 71,
      "outputs": [
        {
          "name": "stdout",
          "text": "Its ok\nperfect\nIts ok\n",
          "output_type": "stream"
        }
      ]
    },
    {
      "cell_type": "markdown",
      "source": "### Collections and Function",
      "metadata": {}
    },
    {
      "cell_type": "markdown",
      "source": "- *args: This is used to pass n-numbers of positional arguements to function body, Single * representsthat this function will accept only positional values,The data type of value going inside this function is tuple.\n     \n- *kwargs: This is used to pass n-numbers of keyword arguements to function body, Double ** represents that this function will accept only keyword argruements, The data type of value going inside this function is dictionary.",
      "metadata": {}
    },
    {
      "cell_type": "code",
      "source": "#tuple\n\ndef cars(*args):\n    print(\"No. of arguements:\", len(args))\n    for i in args:\n        print(i)\n        \ncars('Audi', 'Merc', 'BMW')",
      "metadata": {
        "trusted": true
      },
      "execution_count": 72,
      "outputs": [
        {
          "name": "stdout",
          "text": "No. of arguements: 3\nAudi\nMerc\nBMW\n",
          "output_type": "stream"
        }
      ]
    },
    {
      "cell_type": "code",
      "source": "#dictionary\n\ndef cars(**kwargs):\n    for i in kwargs:\n        print(i + ':'+ kwargs[i])\n        \ncars(year='2015',month='may')",
      "metadata": {
        "trusted": true
      },
      "execution_count": 79,
      "outputs": [
        {
          "name": "stdout",
          "text": "year:2015\nmonth:may\n",
          "output_type": "stream"
        }
      ]
    },
    {
      "cell_type": "code",
      "source": "def cars(**args):\n    for i in args:\n        print(i + ':'+ args[i])\n        \ncars(year='2015',month='may')",
      "metadata": {
        "trusted": true
      },
      "execution_count": 80,
      "outputs": [
        {
          "name": "stdout",
          "text": "year:2015\nmonth:may\n",
          "output_type": "stream"
        }
      ]
    },
    {
      "cell_type": "code",
      "source": "# create a function to append in the list\n\ndef listitems(list):\n    list.append('blue crayon')\n    list.append('black crayon')\n    \nlist1=['red crayon', 'pink crayon']\n\nlistitems(list1)\nprint(list)",
      "metadata": {
        "trusted": true
      },
      "execution_count": 89,
      "outputs": [
        {
          "name": "stdout",
          "text": "['red crayon', 'pink crayon', 'blue crayon', 'black crayon']\n",
          "output_type": "stream"
        }
      ]
    },
    {
      "cell_type": "markdown",
      "source": "### Author\n\nGarima0186",
      "metadata": {}
    },
    {
      "cell_type": "code",
      "source": "",
      "metadata": {},
      "execution_count": null,
      "outputs": []
    }
  ]
}