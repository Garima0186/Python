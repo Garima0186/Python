{
  "metadata": {
    "language_info": {
      "codemirror_mode": {
        "name": "python",
        "version": 3
      },
      "file_extension": ".py",
      "mimetype": "text/x-python",
      "name": "python",
      "nbconvert_exporter": "python",
      "pygments_lexer": "ipython3",
      "version": "3.8"
    },
    "kernelspec": {
      "name": "python",
      "display_name": "Python (Pyodide)",
      "language": "python"
    }
  },
  "nbformat_minor": 4,
  "nbformat": 4,
  "cells": [
    {
      "cell_type": "markdown",
      "source": "# Loops",
      "metadata": {}
    },
    {
      "cell_type": "code",
      "source": "# range\n\nprint(range(5))",
      "metadata": {
        "trusted": true
      },
      "execution_count": 4,
      "outputs": [
        {
          "name": "stdout",
          "text": "range(0, 5)\n",
          "output_type": "stream"
        }
      ]
    },
    {
      "cell_type": "markdown",
      "source": "### for loop\n\nThe for loop enables you to execute a code block multiple times. For example, you would use this if you would like to print out every element in a list.",
      "metadata": {}
    },
    {
      "cell_type": "code",
      "source": "# for loop\n\nnumbers = [2,5,7,3,9]\nN = len(numbers)\n\nfor i in range(N):\n    print(numbers[i])",
      "metadata": {
        "trusted": true
      },
      "execution_count": 7,
      "outputs": [
        {
          "name": "stdout",
          "text": "2\n5\n7\n3\n9\n",
          "output_type": "stream"
        }
      ]
    },
    {
      "cell_type": "code",
      "source": "# FOR LOOP TO FIND PARTICULAR RANGE OF NUMBES\n\nnumbers = [2,5,7,3,9]\n\nfor i in range(0,3):\n    print(numbers[i])\n           \n           ",
      "metadata": {
        "trusted": true
      },
      "execution_count": 12,
      "outputs": [
        {
          "name": "stdout",
          "text": "2\n5\n7\n",
          "output_type": "stream"
        }
      ]
    },
    {
      "cell_type": "code",
      "source": "# For loop with strings getting each element of the list\nletters= ['a','b','c','d']\n\nfor i in letters:\n    print(i)",
      "metadata": {
        "trusted": true
      },
      "execution_count": 10,
      "outputs": [
        {
          "name": "stdout",
          "text": "a\nb\nc\nd\n",
          "output_type": "stream"
        }
      ]
    },
    {
      "cell_type": "code",
      "source": "# using for loop to change the elements of list\n\nletters= ['a','b','c','d']\n\nfor i in range(0,3):\n    letters[i] = 't'\n    print(letters[i])\nprint(letters)",
      "metadata": {
        "trusted": true
      },
      "execution_count": 22,
      "outputs": [
        {
          "name": "stdout",
          "text": "t\nt\nt\n['t', 't', 't', 'd']\n",
          "output_type": "stream"
        }
      ]
    },
    {
      "cell_type": "code",
      "source": "nos =[3,4,5,6]\nfor i in range(0,2):\n    nos[i] ='7'\n    print(nos[i])\nprint(nos)",
      "metadata": {
        "trusted": true
      },
      "execution_count": 29,
      "outputs": [
        {
          "name": "stdout",
          "text": "7\n7\n['7', '7', 5, 6]\n",
          "output_type": "stream"
        }
      ]
    },
    {
      "cell_type": "code",
      "source": "# find both index and element value ( enumerate ())\n\nletters=['a','b','c','d','e']\nfor i, lett in enumerate(letters):\n    print(i,lett)",
      "metadata": {
        "trusted": true
      },
      "execution_count": 30,
      "outputs": [
        {
          "name": "stdout",
          "text": "0 a\n1 b\n2 c\n3 d\n4 e\n",
          "output_type": "stream"
        }
      ]
    },
    {
      "cell_type": "markdown",
      "source": "### while loop\n\nwhile loop exists as a tool for repeated execution based on a condition. The code block will keep being executed until the given logical condition returns a False boolean value.\n",
      "metadata": {}
    },
    {
      "cell_type": "code",
      "source": "# while loop\n\nyear=[2000,2001,2002,2003]\n\ni=0\nyr=year[0]\n\nwhile(yr!=2002):\n    print(yr)\n    i=i+1\n    yr=year[i]\n\nprint( \"it took\", i,\"repetitions to come out of loop \")",
      "metadata": {
        "trusted": true
      },
      "execution_count": 1,
      "outputs": [
        {
          "name": "stdout",
          "text": "2000\n2001\nit took 2 repetitions to come out of loop \n",
          "output_type": "stream"
        }
      ]
    },
    {
      "cell_type": "code",
      "source": "age= [24,25,26,27,28]\n\ni=0\nnos=age[0]\n\nwhile(nos!=26):\n    print(nos)\n    i=i+1\n    nos=age[i]\n    \nprint(\"It took \", i ,\"iterations to get out of loop \")",
      "metadata": {
        "trusted": true
      },
      "execution_count": 2,
      "outputs": [
        {
          "name": "stdout",
          "text": "24\n25\nIt took  2 iterations to get out of loop \n",
          "output_type": "stream"
        }
      ]
    },
    {
      "cell_type": "code",
      "source": "age=[34,35,36,37,38]\n\ni=0\nnum=age[0]\n\nwhile(num!=36):\n    print(num)\n    i=i+1\n    num=age[i]\n\nprint(\"it took \", i , \"repitations to get out of loop \")",
      "metadata": {
        "trusted": true
      },
      "execution_count": 3,
      "outputs": [
        {
          "name": "stdout",
          "text": "34\n35\nit took  2 repitations to get out of loop \n",
          "output_type": "stream"
        }
      ]
    },
    {
      "cell_type": "markdown",
      "source": "### Author\n\nGarima0186",
      "metadata": {}
    },
    {
      "cell_type": "code",
      "source": "",
      "metadata": {},
      "execution_count": null,
      "outputs": []
    }
  ]
}