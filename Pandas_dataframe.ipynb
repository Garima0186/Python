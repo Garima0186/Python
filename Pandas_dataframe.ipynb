{
  "metadata": {
    "language_info": {
      "codemirror_mode": {
        "name": "python",
        "version": 3
      },
      "file_extension": ".py",
      "mimetype": "text/x-python",
      "name": "python",
      "nbconvert_exporter": "python",
      "pygments_lexer": "ipython3",
      "version": "3.8"
    },
    "kernelspec": {
      "name": "python",
      "display_name": "Python (Pyodide)",
      "language": "python"
    }
  },
  "nbformat_minor": 4,
  "nbformat": 4,
  "cells": [
    {
      "cell_type": "markdown",
      "source": "# Pandas : \n\nPandas is a popular library for data analysis built on top of the Python programming language. Pandas generally provide two data structures for manipulating data, They are:\n-    DataFrame\n-    Series\n\nA DataFrame is a two-dimensional data structure, i.e., data is aligned in a tabular fashion in rows and columns.\n",
      "metadata": {
        "tags": []
      }
    },
    {
      "cell_type": "code",
      "source": "#import pandas library:\n\nimport pandas as pd",
      "metadata": {
        "trusted": true
      },
      "execution_count": 1,
      "outputs": []
    },
    {
      "cell_type": "code",
      "source": "# create a dataframe out of dictionary\n\nx = {'Color': ['Red','Blue', 'Green ', 'Yellow'], 'ID': [1, 2, 3, 4], 'Category': ['Apple', 'Berrry', 'Avacardo', 'Mango'], \n      'Price in $':[10, 8, 5, 6]}\ndf=pd.DataFrame(x)\nprint(df)",
      "metadata": {
        "trusted": true
      },
      "execution_count": 5,
      "outputs": [
        {
          "name": "stdout",
          "text": "    Color  ID  Category  Price in $\n0     Red   1     Apple          10\n1    Blue   2    Berrry           8\n2  Green    3  Avacardo           5\n3  Yellow   4     Mango           6\n",
          "output_type": "stream"
        }
      ]
    },
    {
      "cell_type": "code",
      "source": "# column selection\n\nx=df[['Color']]\nprint(x)\n\nprint(type(x))",
      "metadata": {
        "trusted": true
      },
      "execution_count": 12,
      "outputs": [
        {
          "name": "stdout",
          "text": "    Color\n0     Red\n1    Blue\n2  Green \n3  Yellow\n<class 'pandas.core.frame.DataFrame'>\n",
          "output_type": "stream"
        }
      ]
    },
    {
      "cell_type": "code",
      "source": "x=df[['Color', 'Category']]\nprint(x)",
      "metadata": {
        "trusted": true
      },
      "execution_count": 10,
      "outputs": [
        {
          "name": "stdout",
          "text": "    Color  Category\n0     Red     Apple\n1    Blue    Berrry\n2  Green   Avacardo\n3  Yellow     Mango\n",
          "output_type": "stream"
        }
      ]
    },
    {
      "cell_type": "code",
      "source": "print(type(x))",
      "metadata": {
        "trusted": true
      },
      "execution_count": 11,
      "outputs": [
        {
          "name": "stdout",
          "text": "<class 'pandas.core.frame.DataFrame'>\n",
          "output_type": "stream"
        }
      ]
    },
    {
      "cell_type": "code",
      "source": "# to view column as a series just you one bracket\n\nz=df['Color']\nprint(z)",
      "metadata": {
        "trusted": true
      },
      "execution_count": 21,
      "outputs": [
        {
          "name": "stdout",
          "text": "0       Red\n1      Blue\n2    Green \n3    Yellow\nName: Color, dtype: object\n",
          "output_type": "stream"
        }
      ]
    },
    {
      "cell_type": "markdown",
      "source": "## loc() and iloc() functions\n\nloc() is a label-based data selecting method which means that we have to pass the name of the row or column that we want to select. This method includes the last element of the range passed in it.\n\nSimple syntax for your understanding:\n\n    loc[row_label, column_label]\n\niloc() is an indexed-based selecting method which means that we have to pass integer index in the method to select a specific row/column. This method does not include the last element of the range passed in it.\n\nSimple syntax for your understanding:\n\n    iloc[row_index, column_index]\n",
      "metadata": {}
    },
    {
      "cell_type": "code",
      "source": "# create a dataframe out of dictionary\n\nx = {'Color': ['Red','Blue', 'Green ', 'Yellow'], 'ID': [1, 2, 3, 4], 'Category': ['Apple', 'Berrry', 'Avacardo', 'Mango'], \n      'Price in $':[10, 8, 5, 6]}\ndf=pd.DataFrame(x)\nprint(df)",
      "metadata": {
        "trusted": true
      },
      "execution_count": 27,
      "outputs": [
        {
          "name": "stdout",
          "text": "    Color  ID  Category  Price in $\n0     Red   1     Apple          10\n1    Blue   2    Berrry           8\n2  Green    3  Avacardo           5\n3  Yellow   4     Mango           6\n",
          "output_type": "stream"
        }
      ]
    },
    {
      "cell_type": "code",
      "source": "# access the value of the first row and first column\n\na=df.iloc[0,0]\nprint(a)",
      "metadata": {
        "trusted": true
      },
      "execution_count": 28,
      "outputs": [
        {
          "name": "stdout",
          "text": "Red\n",
          "output_type": "stream"
        }
      ]
    },
    {
      "cell_type": "code",
      "source": "# Access the value on the first row and the fourth column\n\na=df.iloc[0,3]\nprint(a)",
      "metadata": {
        "trusted": true
      },
      "execution_count": 29,
      "outputs": [
        {
          "name": "stdout",
          "text": "10\n",
          "output_type": "stream"
        }
      ]
    },
    {
      "cell_type": "code",
      "source": "# Access the value by using column label\na=df.loc[0,'Color']\nprint(a)",
      "metadata": {
        "trusted": true
      },
      "execution_count": 30,
      "outputs": [
        {
          "name": "stdout",
          "text": "Red\n",
          "output_type": "stream"
        }
      ]
    },
    {
      "cell_type": "code",
      "source": "a=df.loc[0,'Price in $']\nprint(a)",
      "metadata": {
        "trusted": true
      },
      "execution_count": 32,
      "outputs": [
        {
          "name": "stdout",
          "text": "10\n",
          "output_type": "stream"
        }
      ]
    },
    {
      "cell_type": "code",
      "source": "df2=df\nprint(df2)",
      "metadata": {
        "trusted": true
      },
      "execution_count": 45,
      "outputs": [
        {
          "name": "stdout",
          "text": "    Color  ID  Category  Price in $\n0     Red   1     Apple          10\n1    Blue   2    Berrry           8\n2  Green    3  Avacardo           5\n3  Yellow   4     Mango           6\n",
          "output_type": "stream"
        }
      ]
    },
    {
      "cell_type": "code",
      "source": "df2.head()",
      "metadata": {
        "trusted": true
      },
      "execution_count": 46,
      "outputs": [
        {
          "execution_count": 46,
          "output_type": "execute_result",
          "data": {
            "text/plain": "    Color  ID  Category  Price in $\n0     Red   1     Apple          10\n1    Blue   2    Berrry           8\n2  Green    3  Avacardo           5\n3  Yellow   4     Mango           6",
            "text/html": "<div>\n<style scoped>\n    .dataframe tbody tr th:only-of-type {\n        vertical-align: middle;\n    }\n\n    .dataframe tbody tr th {\n        vertical-align: top;\n    }\n\n    .dataframe thead th {\n        text-align: right;\n    }\n</style>\n<table border=\"1\" class=\"dataframe\">\n  <thead>\n    <tr style=\"text-align: right;\">\n      <th></th>\n      <th>Color</th>\n      <th>ID</th>\n      <th>Category</th>\n      <th>Price in $</th>\n    </tr>\n  </thead>\n  <tbody>\n    <tr>\n      <th>0</th>\n      <td>Red</td>\n      <td>1</td>\n      <td>Apple</td>\n      <td>10</td>\n    </tr>\n    <tr>\n      <th>1</th>\n      <td>Blue</td>\n      <td>2</td>\n      <td>Berrry</td>\n      <td>8</td>\n    </tr>\n    <tr>\n      <th>2</th>\n      <td>Green</td>\n      <td>3</td>\n      <td>Avacardo</td>\n      <td>5</td>\n    </tr>\n    <tr>\n      <th>3</th>\n      <td>Yellow</td>\n      <td>4</td>\n      <td>Mango</td>\n      <td>6</td>\n    </tr>\n  </tbody>\n</table>\n</div>"
          },
          "metadata": {}
        }
      ]
    },
    {
      "cell_type": "code",
      "source": "df2=df2.set_index('Color')",
      "metadata": {
        "trusted": true
      },
      "execution_count": 48,
      "outputs": []
    },
    {
      "cell_type": "code",
      "source": "df2.head()",
      "metadata": {
        "trusted": true
      },
      "execution_count": 49,
      "outputs": [
        {
          "execution_count": 49,
          "output_type": "execute_result",
          "data": {
            "text/plain": "        ID  Category  Price in $\nColor                           \nRed      1     Apple          10\nBlue     2    Berrry           8\nGreen    3  Avacardo           5\nYellow   4     Mango           6",
            "text/html": "<div>\n<style scoped>\n    .dataframe tbody tr th:only-of-type {\n        vertical-align: middle;\n    }\n\n    .dataframe tbody tr th {\n        vertical-align: top;\n    }\n\n    .dataframe thead th {\n        text-align: right;\n    }\n</style>\n<table border=\"1\" class=\"dataframe\">\n  <thead>\n    <tr style=\"text-align: right;\">\n      <th></th>\n      <th>ID</th>\n      <th>Category</th>\n      <th>Price in $</th>\n    </tr>\n    <tr>\n      <th>Color</th>\n      <th></th>\n      <th></th>\n      <th></th>\n    </tr>\n  </thead>\n  <tbody>\n    <tr>\n      <th>Red</th>\n      <td>1</td>\n      <td>Apple</td>\n      <td>10</td>\n    </tr>\n    <tr>\n      <th>Blue</th>\n      <td>2</td>\n      <td>Berrry</td>\n      <td>8</td>\n    </tr>\n    <tr>\n      <th>Green</th>\n      <td>3</td>\n      <td>Avacardo</td>\n      <td>5</td>\n    </tr>\n    <tr>\n      <th>Yellow</th>\n      <td>4</td>\n      <td>Mango</td>\n      <td>6</td>\n    </tr>\n  </tbody>\n</table>\n</div>"
          },
          "metadata": {}
        }
      ]
    },
    {
      "cell_type": "code",
      "source": "df2.loc['Blue','ID']",
      "metadata": {
        "trusted": true
      },
      "execution_count": 50,
      "outputs": [
        {
          "execution_count": 50,
          "output_type": "execute_result",
          "data": {
            "text/plain": "2"
          },
          "metadata": {}
        }
      ]
    },
    {
      "cell_type": "code",
      "source": "df2.iloc[0,2]",
      "metadata": {
        "trusted": true
      },
      "execution_count": 52,
      "outputs": [
        {
          "execution_count": 52,
          "output_type": "execute_result",
          "data": {
            "text/plain": "10"
          },
          "metadata": {}
        }
      ]
    },
    {
      "cell_type": "markdown",
      "source": "### Slicing\n\nSlicing uses the [] operator to select a set of rows and/or columns from a DataFrame.\n\nTo slice out a set of rows, you use this syntax: data[start:stop]\n\nNOTE: Labels must be found in the DataFrame or you will get a KeyError.\n\nIndexing by labels(i.e. using loc()) differs from indexing by integers (i.e. using iloc()). With loc(), both the start bound and the stop bound are inclusive. When using loc(), integers can be used, but the integers refer to the index label and not the position.\n\nFor example, using loc() and select 1:4 will get a different result than using iloc() to select rows 1:4.",
      "metadata": {}
    },
    {
      "cell_type": "code",
      "source": "print(df)",
      "metadata": {
        "trusted": true
      },
      "execution_count": 53,
      "outputs": [
        {
          "name": "stdout",
          "text": "    Color  ID  Category  Price in $\n0     Red   1     Apple          10\n1    Blue   2    Berrry           8\n2  Green    3  Avacardo           5\n3  Yellow   4     Mango           6\n",
          "output_type": "stream"
        }
      ]
    },
    {
      "cell_type": "code",
      "source": "df.iloc[0:3,0:4]",
      "metadata": {
        "trusted": true
      },
      "execution_count": 57,
      "outputs": [
        {
          "execution_count": 57,
          "output_type": "execute_result",
          "data": {
            "text/plain": "    Color  ID  Category  Price in $\n0     Red   1     Apple          10\n1    Blue   2    Berrry           8\n2  Green    3  Avacardo           5",
            "text/html": "<div>\n<style scoped>\n    .dataframe tbody tr th:only-of-type {\n        vertical-align: middle;\n    }\n\n    .dataframe tbody tr th {\n        vertical-align: top;\n    }\n\n    .dataframe thead th {\n        text-align: right;\n    }\n</style>\n<table border=\"1\" class=\"dataframe\">\n  <thead>\n    <tr style=\"text-align: right;\">\n      <th></th>\n      <th>Color</th>\n      <th>ID</th>\n      <th>Category</th>\n      <th>Price in $</th>\n    </tr>\n  </thead>\n  <tbody>\n    <tr>\n      <th>0</th>\n      <td>Red</td>\n      <td>1</td>\n      <td>Apple</td>\n      <td>10</td>\n    </tr>\n    <tr>\n      <th>1</th>\n      <td>Blue</td>\n      <td>2</td>\n      <td>Berrry</td>\n      <td>8</td>\n    </tr>\n    <tr>\n      <th>2</th>\n      <td>Green</td>\n      <td>3</td>\n      <td>Avacardo</td>\n      <td>5</td>\n    </tr>\n  </tbody>\n</table>\n</div>"
          },
          "metadata": {}
        }
      ]
    },
    {
      "cell_type": "code",
      "source": "df.iloc[0:1,0:4]",
      "metadata": {
        "trusted": true
      },
      "execution_count": 58,
      "outputs": [
        {
          "execution_count": 58,
          "output_type": "execute_result",
          "data": {
            "text/plain": "  Color  ID Category  Price in $\n0   Red   1    Apple          10",
            "text/html": "<div>\n<style scoped>\n    .dataframe tbody tr th:only-of-type {\n        vertical-align: middle;\n    }\n\n    .dataframe tbody tr th {\n        vertical-align: top;\n    }\n\n    .dataframe thead th {\n        text-align: right;\n    }\n</style>\n<table border=\"1\" class=\"dataframe\">\n  <thead>\n    <tr style=\"text-align: right;\">\n      <th></th>\n      <th>Color</th>\n      <th>ID</th>\n      <th>Category</th>\n      <th>Price in $</th>\n    </tr>\n  </thead>\n  <tbody>\n    <tr>\n      <th>0</th>\n      <td>Red</td>\n      <td>1</td>\n      <td>Apple</td>\n      <td>10</td>\n    </tr>\n  </tbody>\n</table>\n</div>"
          },
          "metadata": {}
        }
      ]
    },
    {
      "cell_type": "code",
      "source": "df.loc[0:1,'Color':'Category']",
      "metadata": {
        "trusted": true
      },
      "execution_count": 63,
      "outputs": [
        {
          "execution_count": 63,
          "output_type": "execute_result",
          "data": {
            "text/plain": "  Color  ID Category\n0   Red   1    Apple\n1  Blue   2   Berrry",
            "text/html": "<div>\n<style scoped>\n    .dataframe tbody tr th:only-of-type {\n        vertical-align: middle;\n    }\n\n    .dataframe tbody tr th {\n        vertical-align: top;\n    }\n\n    .dataframe thead th {\n        text-align: right;\n    }\n</style>\n<table border=\"1\" class=\"dataframe\">\n  <thead>\n    <tr style=\"text-align: right;\">\n      <th></th>\n      <th>Color</th>\n      <th>ID</th>\n      <th>Category</th>\n    </tr>\n  </thead>\n  <tbody>\n    <tr>\n      <th>0</th>\n      <td>Red</td>\n      <td>1</td>\n      <td>Apple</td>\n    </tr>\n    <tr>\n      <th>1</th>\n      <td>Blue</td>\n      <td>2</td>\n      <td>Berrry</td>\n    </tr>\n  </tbody>\n</table>\n</div>"
          },
          "metadata": {}
        }
      ]
    },
    {
      "cell_type": "markdown",
      "source": "### Author\n\nGarima0186",
      "metadata": {}
    },
    {
      "cell_type": "code",
      "source": "",
      "metadata": {},
      "execution_count": null,
      "outputs": []
    }
  ]
}