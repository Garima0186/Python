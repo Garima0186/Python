{
  "metadata": {
    "language_info": {
      "codemirror_mode": {
        "name": "python",
        "version": 3
      },
      "file_extension": ".py",
      "mimetype": "text/x-python",
      "name": "python",
      "nbconvert_exporter": "python",
      "pygments_lexer": "ipython3",
      "version": "3.8"
    },
    "kernelspec": {
      "name": "python",
      "display_name": "Python (Pyodide)",
      "language": "python"
    }
  },
  "nbformat_minor": 4,
  "nbformat": 4,
  "cells": [
    {
      "cell_type": "markdown",
      "source": "# List",
      "metadata": {}
    },
    {
      "cell_type": "code",
      "source": "#print list\n\ncolors=['red','blue',['green','voilet'],('black','white')]\nprint(colors)",
      "metadata": {
        "trusted": true
      },
      "execution_count": 1,
      "outputs": [
        {
          "name": "stdout",
          "text": "['red', 'blue', ['green', 'voilet'], ('black', 'white')]\n",
          "output_type": "stream"
        }
      ]
    },
    {
      "cell_type": "code",
      "source": "#slicing\n\ncolors=['red','blue',['green','voilet'],('black','white')]\nprint(colors[1:3])",
      "metadata": {
        "trusted": true
      },
      "execution_count": 2,
      "outputs": [
        {
          "name": "stdout",
          "text": "['blue', ['green', 'voilet']]\n",
          "output_type": "stream"
        }
      ]
    },
    {
      "cell_type": "code",
      "source": "# Use extend() to add elements \n\ncolors=['red','blue',['green','voilet'],('black','white')]\ncolors.extend(['yellow','indigo'])\nprint(colors)",
      "metadata": {
        "trusted": true
      },
      "execution_count": 10,
      "outputs": [
        {
          "name": "stdout",
          "text": "['red', 'blue', ['green', 'voilet'], ('black', 'white'), 'yellow', 'indigo']\n",
          "output_type": "stream"
        }
      ]
    },
    {
      "cell_type": "code",
      "source": "# use append() to add element\n\ncolors=['red','blue',['green','voilet'],('black','white')]\ncolors.append(['yellow','indigo'])\nprint(colors)",
      "metadata": {
        "trusted": true
      },
      "execution_count": 11,
      "outputs": [
        {
          "name": "stdout",
          "text": "['red', 'blue', ['green', 'voilet'], ('black', 'white'), ['yellow', 'indigo']]\n",
          "output_type": "stream"
        }
      ]
    },
    {
      "cell_type": "code",
      "source": "# change the element based on the index\n\ncolors=['red','blue',['green','voilet'],('black','white')]\ncolors[0]='pink'\nprint(colors)\n",
      "metadata": {
        "trusted": true
      },
      "execution_count": 12,
      "outputs": [
        {
          "name": "stdout",
          "text": "['pink', 'blue', ['green', 'voilet'], ('black', 'white')]\n",
          "output_type": "stream"
        }
      ]
    },
    {
      "cell_type": "code",
      "source": "# delete the element \n\ncolors=['red','blue',['green','voilet'],('black','white')]\ndel(colors[2])\nprint(colors)",
      "metadata": {
        "trusted": true
      },
      "execution_count": 16,
      "outputs": [
        {
          "name": "stdout",
          "text": "['red', 'blue', ('black', 'white')]\n",
          "output_type": "stream"
        }
      ]
    },
    {
      "cell_type": "code",
      "source": "# split the string default by '-'\n'Blue Car'.split()\n",
      "metadata": {
        "trusted": true
      },
      "execution_count": 47,
      "outputs": [
        {
          "execution_count": 47,
          "output_type": "execute_result",
          "data": {
            "text/plain": "['Blue', 'Car']"
          },
          "metadata": {}
        }
      ]
    },
    {
      "cell_type": "code",
      "source": "'red blue green voilet black white'.split(',')",
      "metadata": {
        "trusted": true
      },
      "execution_count": 54,
      "outputs": [
        {
          "execution_count": 54,
          "output_type": "execute_result",
          "data": {
            "text/plain": "['red blue green voilet black white']"
          },
          "metadata": {}
        }
      ]
    },
    {
      "cell_type": "code",
      "source": "'A,B,C,D'.split(',')",
      "metadata": {
        "trusted": true
      },
      "execution_count": 55,
      "outputs": [
        {
          "execution_count": 55,
          "output_type": "execute_result",
          "data": {
            "text/plain": "['A', 'B', 'C', 'D']"
          },
          "metadata": {}
        }
      ]
    },
    {
      "cell_type": "code",
      "source": "'mom,dad,bro,sis'.split(',')",
      "metadata": {
        "trusted": true
      },
      "execution_count": 56,
      "outputs": [
        {
          "execution_count": 56,
          "output_type": "execute_result",
          "data": {
            "text/plain": "['mom', 'dad', 'bro', 'sis']"
          },
          "metadata": {}
        }
      ]
    },
    {
      "cell_type": "markdown",
      "source": "##### COPY & CLONE",
      "metadata": {}
    },
    {
      "cell_type": "code",
      "source": "fruits=['Mango','apple','orange','pineapple']\nfr= fruits\nprint('fruits:',fr)\nprint('fr:',fruits)",
      "metadata": {
        "trusted": true
      },
      "execution_count": 64,
      "outputs": [
        {
          "name": "stdout",
          "text": "fruits: ['Mango', 'apple', 'orange', 'pineapple']\nfr: ['Mango', 'apple', 'orange', 'pineapple']\n",
          "output_type": "stream"
        }
      ]
    },
    {
      "cell_type": "code",
      "source": "# Examine the copy by reference\n\nprint('fr[0]:', fr[0])\nfruits[0] = \"banana\"\nprint('fr[0]:', fr[0])",
      "metadata": {
        "trusted": true
      },
      "execution_count": 67,
      "outputs": [
        {
          "name": "stdout",
          "text": "fr[0]: Mango\nfr[0]: banana\n",
          "output_type": "stream"
        }
      ]
    },
    {
      "cell_type": "code",
      "source": "# Clone (clone by value) \n\nfr = fruits[:]\nprint(fr)",
      "metadata": {
        "trusted": true
      },
      "execution_count": 68,
      "outputs": [
        {
          "name": "stdout",
          "text": "['banana', 'apple', 'orange', 'pineapple']\n",
          "output_type": "stream"
        }
      ]
    },
    {
      "cell_type": "code",
      "source": "print('fr[0]:', fr[0])\nfruits[0] = \"Kiwi\"\nprint('fr[0]:', fr[0])\n",
      "metadata": {
        "trusted": true
      },
      "execution_count": 71,
      "outputs": [
        {
          "name": "stdout",
          "text": "fr[0]: banana\nfr[0]: banana\n",
          "output_type": "stream"
        }
      ]
    },
    {
      "cell_type": "code",
      "source": "print('fr[0]:', fr[0])\nfr[0] = \"Kiwi\"\nprint('fr[0]:', fr[0])",
      "metadata": {
        "trusted": true
      },
      "execution_count": 72,
      "outputs": [
        {
          "name": "stdout",
          "text": "fr[0]: banana\nfr[0]: Kiwi\n",
          "output_type": "stream"
        }
      ]
    },
    {
      "cell_type": "code",
      "source": "print(fr)",
      "metadata": {
        "trusted": true
      },
      "execution_count": 73,
      "outputs": [
        {
          "name": "stdout",
          "text": "['Kiwi', 'apple', 'orange', 'pineapple']\n",
          "output_type": "stream"
        }
      ]
    },
    {
      "cell_type": "code",
      "source": "",
      "metadata": {},
      "execution_count": null,
      "outputs": []
    },
    {
      "cell_type": "markdown",
      "source": "### Author\n\n**Garima0186**",
      "metadata": {}
    },
    {
      "cell_type": "code",
      "source": "",
      "metadata": {},
      "execution_count": null,
      "outputs": []
    }
  ]
}