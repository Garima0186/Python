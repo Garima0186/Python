{
  "metadata": {
    "language_info": {
      "codemirror_mode": {
        "name": "python",
        "version": 3
      },
      "file_extension": ".py",
      "mimetype": "text/x-python",
      "name": "python",
      "nbconvert_exporter": "python",
      "pygments_lexer": "ipython3",
      "version": "3.8"
    },
    "kernelspec": {
      "name": "python",
      "display_name": "Python (Pyodide)",
      "language": "python"
    }
  },
  "nbformat_minor": 4,
  "nbformat": 4,
  "cells": [
    {
      "cell_type": "markdown",
      "source": "# RegEx\n\n- In Python, RegEx (short for Regular Expression) is a tool for matching and handling strings. \n- This RegEx module provides several functions for working with regular expressions, including \n1) search\n2) split\n3) findall\n4) sub \n- Python provides a built-in module called re, which allows you to work with regular expressions. First, import the re module",
      "metadata": {}
    },
    {
      "cell_type": "code",
      "source": "#import re\n\nimport re",
      "metadata": {
        "trusted": true
      },
      "execution_count": 1,
      "outputs": []
    },
    {
      "cell_type": "code",
      "source": "#search(): The search() function searches for specified patterns within a string.\n\na=\"Soccer is my favorite sport.\"\npattern=r\"my\"                   # Define the pattern to search for\nresult=re.search(pattern,a)     # Use the search() function to search for the pattern in the string\nprint(result)\nif result:                      # Check if a match was found\n    print(\"Match found\")\nelse:\n    print(\"Match not Found\")\n    ",
      "metadata": {
        "trusted": true
      },
      "execution_count": 38,
      "outputs": [
        {
          "name": "stdout",
          "text": "<re.Match object; span=(10, 12), match='my'>\nMatch found\n",
          "output_type": "stream"
        }
      ]
    },
    {
      "cell_type": "code",
      "source": "\na=\"Soccer is my favorite sport.\"\npattern=r\"for\"\nresult=re.search(pattern,a)\nprint(result)\nif result:\n    print(\"Match found\")\nelse:\n    print(\"Match not Found\")\n    ",
      "metadata": {
        "trusted": true
      },
      "execution_count": 43,
      "outputs": [
        {
          "name": "stdout",
          "text": "None\nMatch not Found\n",
          "output_type": "stream"
        }
      ]
    },
    {
      "cell_type": "markdown",
      "source": "### Special Sequences\n\nRegular expressions (RegEx) are patterns used to match and manipulate strings of text. There are several special sequences in RegEx that can be used to match specific characters or patterns.\n\nSpecial Sequence \tMeaning \tExample\n\n- \\d \tMatches any digit character (0-9) \n- \\D \tMatches any non-digit character\n- \\w \tMatches any word character (a-z, A-Z, 0-9, and _)\n- \\W \tMatches any non-word character\n- \\s \tMatches any whitespace character (space, tab, newline, etc.) \n- \\S \tMatches any non-whitespace character \t\"hello_world\" matches\n- \\b \tMatches the boundary between a word character and a non-word character \n- \\B \tMatches any position that is not a word boundary ",
      "metadata": {}
    },
    {
      "cell_type": "code",
      "source": "# \\d matches any digit character\n\na=\"My phone number is 123456789\"\n\n# matches any nine consecutive digits\n\npattern=r\"\\d\\d\\d\\d\\d\\d\\d\\d\\d\"\nresult=re.search(pattern,a)\n\nprint(result)\nif result:\n    print(\"Match found\" , result.group())\nelse:\n    print(\"Match not Found\")\n    ",
      "metadata": {
        "trusted": true
      },
      "execution_count": 62,
      "outputs": [
        {
          "name": "stdout",
          "text": "<re.Match object; span=(19, 28), match='123456789'>\nMatch found 123456789\n",
          "output_type": "stream"
        }
      ]
    },
    {
      "cell_type": "code",
      "source": "\na=\"My phone number is 123456789\"\npattern=r\"\\D\\D\\D\\D\\D\\D\\D\\D\\D\"\nresult=re.search(pattern,a)\nprint(result)\nif result:\n    print(\"Match found\" , result.group())\nelse:\n    print(\"Match not Found\")\n    ",
      "metadata": {
        "trusted": true
      },
      "execution_count": 42,
      "outputs": [
        {
          "name": "stdout",
          "text": "<re.Match object; span=(0, 9), match='My phone '>\nMatch found My phone \n",
          "output_type": "stream"
        }
      ]
    },
    {
      "cell_type": "code",
      "source": "# \\W Matches any non-word character\n# The findall() function finds all occurrences of a specified pattern within a string.\n\na=\"My phone number is 123456789\"\npattern=r\"\\W\"\nresult=re.findall(pattern,a)\nprint(result)\n    ",
      "metadata": {
        "trusted": true
      },
      "execution_count": 63,
      "outputs": [
        {
          "name": "stdout",
          "text": "[' ', ' ', ' ', ' ']\n",
          "output_type": "stream"
        }
      ]
    },
    {
      "cell_type": "code",
      "source": "# The findall() function finds all occurrences of a specified pattern within a string.\n\na=\"My phone number is 123456789 and My birthdate is 5/24/2000\"\npattern=r\"My\"\nresult=re.findall(pattern,a)\nprint(result)\nif result:\n    print(\"Match found\" )\nelse:\n    print(\"Match not Found\")",
      "metadata": {
        "trusted": true
      },
      "execution_count": 49,
      "outputs": [
        {
          "name": "stdout",
          "text": "['My', 'My']\nMatch found\n",
          "output_type": "stream"
        }
      ]
    },
    {
      "cell_type": "code",
      "source": "#Split : A regular expression's split() function splits a string into an array of\n# substrings based on a specified pattern.\n\na=\"My phone number is 123456789 and My birthdate is 5/24/2000\"\nresult=re.split(\"\\s\",a)\nprint(result)\n",
      "metadata": {
        "trusted": true
      },
      "execution_count": 61,
      "outputs": [
        {
          "name": "stdout",
          "text": "['My', 'phone', 'number', 'is', '123456789', 'and', 'My', 'birthdate', 'is', '5/24/2000']\n",
          "output_type": "stream"
        }
      ]
    },
    {
      "cell_type": "code",
      "source": "# Sub :The sub function of a regular expression in Python is used to replace all occurrences of a pattern \n#in a string with a specified replacement.\n\na=\" My phone number is 123456789.\"\npattern=r\"123456789\"\nreplacement=\"987654321\"\nresult=re.sub(pattern,replacement,a)\nprint(result)",
      "metadata": {
        "trusted": true
      },
      "execution_count": 67,
      "outputs": [
        {
          "name": "stdout",
          "text": " My phone number is 987654321.\n",
          "output_type": "stream"
        }
      ]
    },
    {
      "cell_type": "code",
      "source": "",
      "metadata": {},
      "execution_count": null,
      "outputs": []
    }
  ]
}