{
  "metadata": {
    "language_info": {
      "codemirror_mode": {
        "name": "python",
        "version": 3
      },
      "file_extension": ".py",
      "mimetype": "text/x-python",
      "name": "python",
      "nbconvert_exporter": "python",
      "pygments_lexer": "ipython3",
      "version": "3.8"
    },
    "kernelspec": {
      "name": "python",
      "display_name": "Python (Pyodide)",
      "language": "python"
    }
  },
  "nbformat_minor": 4,
  "nbformat": 4,
  "cells": [
    {
      "cell_type": "markdown",
      "source": "# Sets\n\nA unique collection of objects in python. ",
      "metadata": {}
    },
    {
      "cell_type": "code",
      "source": "#create a set\n\ncars={'audi','Merc','BMW','Toyota','Honda','audi'}\nprint(cars)",
      "metadata": {
        "trusted": true
      },
      "execution_count": 1,
      "outputs": [
        {
          "name": "stdout",
          "text": "{'audi', 'Honda', 'Merc', 'Toyota', 'BMW'}\n",
          "output_type": "stream"
        }
      ]
    },
    {
      "cell_type": "code",
      "source": "# set() : to convert lists to set\n\ncars=['audi','Merc','BMW','Toyota','Honda','audi']\ncars1=set(cars)\nprint(cars1)",
      "metadata": {
        "trusted": true
      },
      "execution_count": 2,
      "outputs": [
        {
          "name": "stdout",
          "text": "{'Toyota', 'audi', 'Honda', 'Merc', 'BMW'}\n",
          "output_type": "stream"
        }
      ]
    },
    {
      "cell_type": "code",
      "source": "# add , remove and verify in sets\n\ncars={'audi','Merc','BMW','Toyota','Honda','audi'}\ncars.add('Hyundi')\ncars.remove('BMW')\nprint(cars)\nprint('Toyota'in cars)",
      "metadata": {
        "trusted": true
      },
      "execution_count": 3,
      "outputs": [
        {
          "name": "stdout",
          "text": "{'audi', 'Honda', 'Merc', 'Toyota', 'Hyundi'}\nTrue\n",
          "output_type": "stream"
        }
      ]
    },
    {
      "cell_type": "code",
      "source": "# two sets and find common values\n\ncars={'audi','Merc','BMW','Toyota','Honda','audi','red'}\ncolors={'red','orange','green','black','blue'}\n\nprint(cars)\nprint(colors)\ncommon_values= cars & colors\nprint(common_values)\n",
      "metadata": {
        "trusted": true
      },
      "execution_count": 11,
      "outputs": [
        {
          "name": "stdout",
          "text": "{'audi', 'Honda', 'red', 'Merc', 'Toyota', 'BMW'}\n{'black', 'red', 'green', 'blue', 'orange'}\n{'red'}\n",
          "output_type": "stream"
        }
      ]
    },
    {
      "cell_type": "code",
      "source": "# finding difference values difference()\n\ndiff_values= cars.difference(colors)\nprint(common_values)\n\ndiff_values= colors.difference(cars)\nprint(diff_values)",
      "metadata": {
        "trusted": true
      },
      "execution_count": 15,
      "outputs": [
        {
          "name": "stdout",
          "text": "{'black', 'green', 'blue', 'orange'}\n{'black', 'green', 'blue', 'orange'}\n",
          "output_type": "stream"
        }
      ]
    },
    {
      "cell_type": "code",
      "source": "# union()\n\nunion1= cars.union(colors)\nprint(union1)",
      "metadata": {
        "trusted": true
      },
      "execution_count": 16,
      "outputs": [
        {
          "name": "stdout",
          "text": "{'black', 'green', 'Toyota', 'orange', 'audi', 'Honda', 'red', 'Merc', 'blue', 'BMW'}\n",
          "output_type": "stream"
        }
      ]
    },
    {
      "cell_type": "code",
      "source": "# superset & subset : issubset() and issuperset()\n\nprint(cars.issubset(colors))\nprint(cars.issuperset(colors))\nprint(colors.issubset(cars))\nprint(colors.issuperset(cars))\nprint(union1.issubset(cars))\nprint(union1.issuperset(cars))\nprint(union1.issuperset(colors))\nprint(cars.issubset(union1))\nprint(colors.issubset(union1))",
      "metadata": {
        "trusted": true
      },
      "execution_count": 26,
      "outputs": [
        {
          "name": "stdout",
          "text": "False\nFalse\nFalse\nFalse\nFalse\nTrue\nTrue\nTrue\nTrue\n",
          "output_type": "stream"
        }
      ]
    },
    {
      "cell_type": "code",
      "source": "",
      "metadata": {},
      "execution_count": null,
      "outputs": []
    },
    {
      "cell_type": "code",
      "source": "### Author\n\nGarima0186",
      "metadata": {},
      "execution_count": null,
      "outputs": []
    }
  ]
}