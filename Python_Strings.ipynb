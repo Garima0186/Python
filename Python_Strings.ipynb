{
  "metadata": {
    "language_info": {
      "codemirror_mode": {
        "name": "python",
        "version": 3
      },
      "file_extension": ".py",
      "mimetype": "text/x-python",
      "name": "python",
      "nbconvert_exporter": "python",
      "pygments_lexer": "ipython3",
      "version": "3.8"
    },
    "kernelspec": {
      "name": "python",
      "display_name": "Python (Pyodide)",
      "language": "python"
    }
  },
  "nbformat_minor": 4,
  "nbformat": 4,
  "cells": [
    {
      "cell_type": "markdown",
      "source": "# Strings\n\n##### Use quotation make to define strings\n\n\"Mike Mark\"\n\nOR\n\n'Mike Mark'",
      "metadata": {}
    },
    {
      "cell_type": "markdown",
      "source": "***Notes***\n\n1) We can also use single quotation marks\n2) A string can be a combination of spaces and digits\n3) A string can also be a combination of special characters.\n4) We can print our string using the print statement.\n5) We can bind or assign a string to another variable.\n\n#### Indexing\n\n- It is helpful to think of a string as an ordered sequence. Each element in the sequence can be accessed using an index represented by the array of numbers.\n\n- Because indexing starts at 0, it means the first index is on the index 0.\n\n- We can also use negative indexing with strings:Negative index can help us to count the element from the end of the string.The last element is given by the index -1:\n",
      "metadata": {}
    },
    {
      "cell_type": "code",
      "source": "# print string\n\nprint(\"Max Mark\")",
      "metadata": {
        "trusted": true
      },
      "execution_count": 1,
      "outputs": [
        {
          "name": "stdout",
          "text": "Max Mark\n",
          "output_type": "stream"
        }
      ]
    },
    {
      "cell_type": "code",
      "source": "#Indexing\n\nname = \"Max Mark\"\nprint(name[0])\nprint(name[5])\nprint(name[-1])\nprint(name[-3])",
      "metadata": {
        "trusted": true
      },
      "execution_count": 3,
      "outputs": [
        {
          "name": "stdout",
          "text": "M\na\nk\na\n",
          "output_type": "stream"
        }
      ]
    },
    {
      "cell_type": "code",
      "source": "# Slicing : When taking the slice, the first number means the index (start at 0),\n#the second number means the length from the index to the last element you want(start at 1) \n\nname = \"Max Mark\"\nprint(name[0:5])\nprint(name[5:7])",
      "metadata": {
        "trusted": true
      },
      "execution_count": 5,
      "outputs": [
        {
          "name": "stdout",
          "text": "Max M\nar\n",
          "output_type": "stream"
        }
      ]
    },
    {
      "cell_type": "code",
      "source": "#Stride\n\nname = \"MaxMarkismyname.\"\nprint(name[::2])\nprint(name[::3])\nprint(name[0:10:3])\n# Slicing with striding. In this case we select first ten elements and then use the stride",
      "metadata": {
        "trusted": true
      },
      "execution_count": 14,
      "outputs": [
        {
          "name": "stdout",
          "text": "Mxaksyae\nMMkma.\nMMkm\n",
          "output_type": "stream"
        }
      ]
    },
    {
      "cell_type": "code",
      "source": "# Concatenate strings\n\nfav_fruit= \"Apple\"\nfruits = fav_fruit + ' is my favorite fruit.'\nprint(fruits)\nprint(3 * fruits) # replicate the string\nprint( \"Apple\" +\" \" + \"is my favorite fruit.\")",
      "metadata": {
        "trusted": true
      },
      "execution_count": 20,
      "outputs": [
        {
          "name": "stdout",
          "text": "Apple is my favorite fruit.\nApple is my favorite fruit.Apple is my favorite fruit.Apple is my favorite fruit.\nApple is my favorite fruit.\n",
          "output_type": "stream"
        }
      ]
    },
    {
      "cell_type": "code",
      "source": "# Escape sequences : Back slashes '\\'represent the begining of escape sequences.\n# new line escape sequence '\\n'\n# tab escape sequence '\\t'\n# Include back slash escape sequence '\\\\'\n\nprint(\"Apple is my \\n favorite fruit.\")\nprint(\"Apple is my \\t favorite fruit.\")\nprint(\"Apple is my \\\\ favorite fruit.\")\nprint(r\"Apple is my \\ favorite fruit.\")",
      "metadata": {
        "trusted": true
      },
      "execution_count": 25,
      "outputs": [
        {
          "name": "stdout",
          "text": "Apple is my \n favorite fruit.\nApple is my \t favorite fruit.\nApple is my \\ favorite fruit.\nApple is my \\ favorite fruit.\n",
          "output_type": "stream"
        }
      ]
    },
    {
      "cell_type": "markdown",
      "source": "# String Operations\nThere are many string operation methods in Python that can be used to manipulate the data. \n- upper\n- lower\n- relace\n- find\n- ubstring\n- split",
      "metadata": {}
    },
    {
      "cell_type": "code",
      "source": "# upper()\n\na= \"You are a nice person.\"\nprint(a.upper())\n\n#OR\n\na=\"You are a nice person.\"\nb=a.upper()\nprint(b)",
      "metadata": {
        "trusted": true
      },
      "execution_count": 30,
      "outputs": [
        {
          "name": "stdout",
          "text": "YOU ARE A NICE PERSON.\nYOU ARE A NICE PERSON.\n",
          "output_type": "stream"
        }
      ]
    },
    {
      "cell_type": "code",
      "source": "# lower()\n\na=\"You Are A Nice Person.\"\nb=a.lower()\nprint(b)",
      "metadata": {
        "trusted": true
      },
      "execution_count": 31,
      "outputs": [
        {
          "name": "stdout",
          "text": "you are a nice person.\n",
          "output_type": "stream"
        }
      ]
    },
    {
      "cell_type": "code",
      "source": "# Replace: It replaces a segment of the string, i.e. a substring with a new string\n\na=\"You Are A Nice Person.\"\nb=a.replace('You','They')\nprint(b)\n\na=\"You Are A Nice Person.\"\nb=a.replace('You','They').replace('Are','Have').replace('A Nice Person', 'Fun')\nprint(b)\n\na=\"You Are A Nice Person.\"\nprint(a.replace(\"You\",\"Max\"))\n      \na=\"You Are A Nice Person.\"\nprint(a.replace(\"You\",\"Max\").replace('Are','Have').replace('A Nice Person','Fun'))\n\n",
      "metadata": {
        "trusted": true
      },
      "execution_count": 38,
      "outputs": [
        {
          "name": "stdout",
          "text": "They Are A Nice Person.\nThey Have Fun..\nMax Are A Nice Person.\nMax Have Fun.\n",
          "output_type": "stream"
        }
      ]
    },
    {
      "cell_type": "code",
      "source": "#find : The method find finds a sub-string.Finf the index or position of the element.\n\na=\"You are a nice person.\"\nb1=a.find(\"are\")\nb2=a.find(\"person\")\nb3=a.find(\"e\")\nb4=a.find(\"x\")\nprint(b1)\nprint(b2)\nprint(b3)\nprint(b4) # if sub string is not in the string the output is negative",
      "metadata": {
        "trusted": true
      },
      "execution_count": 42,
      "outputs": [
        {
          "name": "stdout",
          "text": "4\n15\n6\n-1\n",
          "output_type": "stream"
        }
      ]
    },
    {
      "cell_type": "code",
      "source": "#split : split the substring into list\n\na=\"You are a nice person.\"\nb=a.split()\nprint(b)\n",
      "metadata": {
        "trusted": true
      },
      "execution_count": 43,
      "outputs": [
        {
          "name": "stdout",
          "text": "['You', 'are', 'a', 'nice', 'person.']\n",
          "output_type": "stream"
        }
      ]
    }
  ]
}