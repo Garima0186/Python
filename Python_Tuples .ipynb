{
  "metadata": {
    "language_info": {
      "codemirror_mode": {
        "name": "python",
        "version": 3
      },
      "file_extension": ".py",
      "mimetype": "text/x-python",
      "name": "python",
      "nbconvert_exporter": "python",
      "pygments_lexer": "ipython3",
      "version": "3.8"
    },
    "kernelspec": {
      "name": "python",
      "display_name": "Python (Pyodide)",
      "language": "python"
    }
  },
  "nbformat_minor": 4,
  "nbformat": 4,
  "cells": [
    {
      "cell_type": "markdown",
      "source": "# Tuples\n",
      "metadata": {}
    },
    {
      "cell_type": "code",
      "source": "#create first tuple\n\ntuple1=('mark',29,34.6)\nprint(tuple1)\nprint(type(tuple1))",
      "metadata": {
        "trusted": true
      },
      "execution_count": 2,
      "outputs": [
        {
          "name": "stdout",
          "text": "('mark', 29, 34.6)\n<class 'tuple'>\n",
          "output_type": "stream"
        }
      ]
    },
    {
      "cell_type": "code",
      "source": "#Indexing\n\ntuple1=('mark',29,34.6)\nprint(tuple1[0])\nprint(tuple1[1])\nprint(tuple1[2])\n\ntuple1=('mark',29,34.6)\nprint(type(tuple1[0]))\nprint(type(tuple1[1]))\nprint(type(tuple1[2]))",
      "metadata": {
        "trusted": true
      },
      "execution_count": 4,
      "outputs": [
        {
          "name": "stdout",
          "text": "mark\n29\n34.6\n<class 'str'>\n<class 'int'>\n<class 'float'>\n",
          "output_type": "stream"
        }
      ]
    },
    {
      "cell_type": "code",
      "source": "#Negative indexing\n\ntuple1=('mark',29,34.6)\nprint(tuple1[-1])\nprint(tuple1[-2])",
      "metadata": {
        "trusted": true
      },
      "execution_count": 5,
      "outputs": [
        {
          "name": "stdout",
          "text": "34.6\n29\n",
          "output_type": "stream"
        }
      ]
    },
    {
      "cell_type": "code",
      "source": "#Concatenate Tuple\n\nTuple1=(1,2,3)\nTuple2=Tuple1 + (4,5,6)\nprint(Tuple2)",
      "metadata": {
        "trusted": true
      },
      "execution_count": 6,
      "outputs": [
        {
          "name": "stdout",
          "text": "(1, 2, 3, 4, 5, 6)\n",
          "output_type": "stream"
        }
      ]
    },
    {
      "cell_type": "code",
      "source": "#slicing\n\nTuple2=(1,2,3,4,5,6)\nprint(Tuple2[1:4])",
      "metadata": {
        "trusted": true
      },
      "execution_count": 7,
      "outputs": [
        {
          "name": "stdout",
          "text": "(2, 3, 4)\n",
          "output_type": "stream"
        }
      ]
    },
    {
      "cell_type": "code",
      "source": "#Get length of Tuple\n\nTuple2=(1,2,3,4,5,6)\nprint(len(Tuple2))\n",
      "metadata": {
        "trusted": true
      },
      "execution_count": 8,
      "outputs": [
        {
          "name": "stdout",
          "text": "6\n",
          "output_type": "stream"
        }
      ]
    },
    {
      "cell_type": "code",
      "source": "#sorting\n\nTuple1= (2,4,5,7,1,3)\nTuple2=sorted(Tuple1)\nprint(Tuple2)",
      "metadata": {
        "trusted": true
      },
      "execution_count": 12,
      "outputs": [
        {
          "name": "stdout",
          "text": "[1, 2, 3, 4, 5, 7]\n",
          "output_type": "stream"
        }
      ]
    },
    {
      "cell_type": "code",
      "source": "# Nested Tuple :A tuple can contain another tuple as well as other more complex data types. \n# This process is called 'nesting'.\n\nNT= (2,3,4,('red','blue'),((3.1,3.2,3.3),(4.1,4.2)),True)\nprint(NT[4])\nprint(NT[4][1])\nprint(NT[4][1][1])\n",
      "metadata": {
        "trusted": true
      },
      "execution_count": 15,
      "outputs": [
        {
          "name": "stdout",
          "text": "((3.1, 3.2, 3.3), (4.1, 4.2))\n(4.1, 4.2)\n4.2\n",
          "output_type": "stream"
        }
      ]
    },
    {
      "cell_type": "code",
      "source": "# finding index of element in tuple\n\nTuple1= (2,4,5,7,1,3)\nTuple2=Tuple1.index(7)\nprint(Tuple2)",
      "metadata": {
        "trusted": true
      },
      "execution_count": 21,
      "outputs": [
        {
          "name": "stdout",
          "text": "3\n",
          "output_type": "stream"
        }
      ]
    },
    {
      "cell_type": "code",
      "source": "genres_tuple=('red','disco','blue')\nc=genres_tuple.index(\"disco\")\nprint(c)",
      "metadata": {
        "trusted": true
      },
      "execution_count": 19,
      "outputs": [
        {
          "name": "stdout",
          "text": "1\n",
          "output_type": "stream"
        }
      ]
    },
    {
      "cell_type": "markdown",
      "source": "## Author\n**Garima0186**",
      "metadata": {}
    },
    {
      "cell_type": "code",
      "source": "",
      "metadata": {},
      "execution_count": null,
      "outputs": []
    },
    {
      "cell_type": "code",
      "source": "",
      "metadata": {},
      "execution_count": null,
      "outputs": []
    }
  ]
}